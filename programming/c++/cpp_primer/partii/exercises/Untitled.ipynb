{
 "cells": [
  {
   "cell_type": "code",
   "execution_count": null,
   "id": "92a53692",
   "metadata": {},
   "outputs": [],
   "source": [
    "#include <iostream>"
   ]
  }
 ],
 "metadata": {
  "kernelspec": {
   "display_name": "C++11",
   "language": "C++11",
   "name": "xcpp11"
  }
 },
 "nbformat": 4,
 "nbformat_minor": 5
}
