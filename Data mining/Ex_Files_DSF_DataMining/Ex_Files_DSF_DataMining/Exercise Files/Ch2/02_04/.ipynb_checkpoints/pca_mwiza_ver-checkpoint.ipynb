{
 "cells": [
  {
   "cell_type": "code",
   "execution_count": 3,
   "metadata": {},
   "outputs": [
    {
     "name": "stdout",
     "output_type": "stream",
     "text": [
      "Requirement already satisfied: pandas in /Users/mwiza/anaconda3/envs/gen_purpose_env/lib/python3.8/site-packages (1.0.3)\n",
      "Requirement already satisfied: numpy>=1.13.3 in /Users/mwiza/anaconda3/envs/gen_purpose_env/lib/python3.8/site-packages (from pandas) (1.18.1)\n",
      "Requirement already satisfied: python-dateutil>=2.6.1 in /Users/mwiza/anaconda3/envs/gen_purpose_env/lib/python3.8/site-packages (from pandas) (2.8.1)\n",
      "Requirement already satisfied: pytz>=2017.2 in /Users/mwiza/anaconda3/envs/gen_purpose_env/lib/python3.8/site-packages (from pandas) (2019.3)\n",
      "Requirement already satisfied: six>=1.5 in /Users/mwiza/anaconda3/envs/gen_purpose_env/lib/python3.8/site-packages (from python-dateutil>=2.6.1->pandas) (1.14.0)\n",
      "Requirement already satisfied: numpy in /Users/mwiza/anaconda3/envs/gen_purpose_env/lib/python3.8/site-packages (1.18.1)\n",
      "Requirement already satisfied: scipy in /Users/mwiza/anaconda3/envs/gen_purpose_env/lib/python3.8/site-packages (1.4.1)\n",
      "Requirement already satisfied: numpy>=1.13.3 in /Users/mwiza/anaconda3/envs/gen_purpose_env/lib/python3.8/site-packages (from scipy) (1.18.1)\n",
      "Requirement already satisfied: sklearn in /Users/mwiza/anaconda3/envs/gen_purpose_env/lib/python3.8/site-packages (0.0)\n",
      "Requirement already satisfied: scikit-learn in /Users/mwiza/anaconda3/envs/gen_purpose_env/lib/python3.8/site-packages (from sklearn) (0.22.2.post1)\n",
      "Requirement already satisfied: joblib>=0.11 in /Users/mwiza/anaconda3/envs/gen_purpose_env/lib/python3.8/site-packages (from scikit-learn->sklearn) (0.14.1)\n",
      "Requirement already satisfied: scipy>=0.17.0 in /Users/mwiza/anaconda3/envs/gen_purpose_env/lib/python3.8/site-packages (from scikit-learn->sklearn) (1.4.1)\n",
      "Requirement already satisfied: numpy>=1.11.0 in /Users/mwiza/anaconda3/envs/gen_purpose_env/lib/python3.8/site-packages (from scikit-learn->sklearn) (1.18.1)\n"
     ]
    }
   ],
   "source": [
    "!pip install pandas\n",
    "!pip install numpy\n",
    "!pip install scipy\n",
    "!pip install sklearn"
   ]
  },
  {
   "cell_type": "code",
   "execution_count": 8,
   "metadata": {},
   "outputs": [],
   "source": [
    "import pandas as pd\n",
    "import numpy as np\n",
    "from sklearn.preprocessing import scale\n",
    "from sklearn.decomposition import PCA"
   ]
  },
  {
   "cell_type": "code",
   "execution_count": 9,
   "metadata": {},
   "outputs": [],
   "source": [
    "data = pd.read_csv('./data/b5.csv')"
   ]
  },
  {
   "cell_type": "code",
   "execution_count": 10,
   "metadata": {},
   "outputs": [
    {
     "data": {
      "text/plain": [
       "array([[4, 2, 5, ..., 2, 5, 5],\n",
       "       [2, 2, 3, ..., 1, 3, 2],\n",
       "       [5, 1, 1, ..., 5, 5, 5],\n",
       "       ...,\n",
       "       [2, 5, 4, ..., 5, 5, 5],\n",
       "       [1, 4, 2, ..., 3, 5, 5],\n",
       "       [2, 3, 1, ..., 5, 5, 5]])"
      ]
     },
     "execution_count": 10,
     "metadata": {},
     "output_type": "execute_result"
    }
   ],
   "source": [
    "data.values"
   ]
  },
  {
   "cell_type": "code",
   "execution_count": 12,
   "metadata": {},
   "outputs": [],
   "source": [
    "X = scale(data)"
   ]
  },
  {
   "cell_type": "code",
   "execution_count": 13,
   "metadata": {},
   "outputs": [
    {
     "name": "stdout",
     "output_type": "stream",
     "text": [
      "[0.16101911 0.09246263 0.07527279 0.07100381 0.05526279 0.0313044\n",
      " 0.02660753 0.02099101 0.01937029 0.01849593 0.01794133 0.01735232\n",
      " 0.01689316 0.01604282 0.01576013 0.01470117 0.01459846 0.01438242\n",
      " 0.01362569 0.01322527 0.0131285  0.01268631 0.01223362 0.01180048\n",
      " 0.01164071 0.01136677 0.01108761 0.0106515  0.01045028 0.0102118\n",
      " 0.01003675 0.00983507 0.00974897 0.00963948 0.0089566  0.00894\n",
      " 0.00868373 0.00840808 0.00831106 0.00808253 0.00793945 0.00760062\n",
      " 0.00748126 0.00727417 0.00694749 0.00689884 0.00650197 0.00647554\n",
      " 0.0062404  0.00442735]\n"
     ]
    }
   ],
   "source": [
    "pca = PCA()\n",
    "pca.fit(X)\n",
    "print(pca.explained_variance_ratio_)"
   ]
  },
  {
   "cell_type": "code",
   "execution_count": 14,
   "metadata": {},
   "outputs": [
    {
     "name": "stdout",
     "output_type": "stream",
     "text": [
      "[0.16101911 0.09246263 0.07527278 0.07100376 0.05526255]\n"
     ]
    }
   ],
   "source": [
    "pca5 = PCA(n_components = 5 )\n",
    "pca5.fit(X)\n",
    "print(pca5.explained_variance_ratio_)\n",
    "\n",
    "# PCA is more advanced in R"
   ]
  },
  {
   "cell_type": "code",
   "execution_count": null,
   "metadata": {},
   "outputs": [],
   "source": []
  }
 ],
 "metadata": {
  "kernelspec": {
   "display_name": "Python 3",
   "language": "python",
   "name": "python3"
  },
  "language_info": {
   "codemirror_mode": {
    "name": "ipython",
    "version": 3
   },
   "file_extension": ".py",
   "mimetype": "text/x-python",
   "name": "python",
   "nbconvert_exporter": "python",
   "pygments_lexer": "ipython3",
   "version": "3.8.2"
  }
 },
 "nbformat": 4,
 "nbformat_minor": 4
}
