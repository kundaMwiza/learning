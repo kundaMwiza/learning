{
 "cells": [
  {
   "cell_type": "code",
   "execution_count": 7,
   "metadata": {},
   "outputs": [],
   "source": [
    "import numpy as np\n",
    "import random \n",
    "import pandas as pd\n",
    "np.random.seed(123)\n",
    "# load and process data\n",
    "data = pd.read_csv('bill_authentication.csv')\n",
    "index_shuffle = np.arange(1372)\n",
    "np.random.shuffle(index_shuffle)\n",
    "data = data.loc[index_shuffle, :]\n",
    "X_train = data.loc[index_shuffle[:1097], :].reset_index(drop = True)\n",
    "X_test = data.loc[index_shuffle[1098:], :].reset_index(drop = True)\n",
    "stop_crit = 5 # number of points in split to stop splitting data\n",
    "num_dim = data.shape[1]\n",
    "\n",
    "# lambda = 0.4 for regularization \n"
   ]
  },
  {
   "cell_type": "code",
   "execution_count": 8,
   "metadata": {},
   "outputs": [],
   "source": [
    "class node:\n",
    "    def __init__(self, data = None):\n",
    "        self.data = data\n",
    "        self.lftn = None\n",
    "        self.rghtn = None\n",
    "        self.dim = None\n",
    "        self.mid = None\n",
    "        self.entropy = None\n",
    "        self.classif = None\n",
    "    \n",
    "    global_entropy = 0  # entropy of lead nodes summed - prep for pruning \n",
    "    \n",
    "    def compute_entropy(self, df, low, mid, dim):  # computes entropy of split\n",
    "        left_p = df.loc[:low, :].shape[0]/df.shape[0]\n",
    "        right_p = 1 - left_p\n",
    "        left = df.loc[:low, :]\n",
    "        right = df.loc[low+1:, :]\n",
    "        left_pp = (left.Class == 1).sum()/left.shape[0]\n",
    "        right_pp = (right.Class == 1).sum()/right.shape[0]  \n",
    "        if left_pp == 0 or left_pp == 1:\n",
    "            left_ent = 0\n",
    "        else:\n",
    "            left_ent = -(left_pp *np.log(left_pp) + (1 -left_pp)*np.log(1 - left_pp)) \n",
    "        if right_pp == 0 or right_pp == 1:\n",
    "            right_ent = 0\n",
    "        else:\n",
    "            right_ent = -(right_pp*np.log(right_pp) + (1 - right_pp)*np.log(1 - right_pp))\n",
    "        ent = (left_p*left_ent + right_p*right_ent)\n",
    "        return ent\n",
    "    \n",
    "    def split(self):   # split data into two based on the dimension that gives the lowest entropy\n",
    "        data_store = np.empty((self.data.shape[0]-1, 4))\n",
    "        \n",
    "        for dim in range(data_store.shape[1]):  # for each dimension, find the optimal split index\n",
    "            self.data = self.data.sort_values(self.data.columns[dim]).reset_index(drop = True)\n",
    "            for data_slice in range(data_store.shape[0]):\n",
    "                low = self.data.iloc[data_slice, dim]\n",
    "                high = self.data.iloc[data_slice + 1, dim]\n",
    "                mid = 0.5*(low + high)\n",
    "                ent = self.compute_entropy(df = self.data, low = data_slice, mid = mid, dim = dim)\n",
    "                data_store[data_slice, dim] = ent\n",
    "                if ent == 0:\n",
    "                    self.lftn = node(data = self.data.loc[:data_slice, :])\n",
    "                    self.rghtn = node(data = self.data.loc[(data_slice +1):, :])\n",
    "                    self.mid = mid\n",
    "                    self.dim = dim\n",
    "                    break\n",
    "            if ent == 0:\n",
    "                break\n",
    "\n",
    "        if ent != 0:\n",
    "            interm = np.where(data_store == data_store.min())\n",
    "            k0 = interm[0][0]\n",
    "            k1 = interm[1][0]\n",
    "            X_train = self.data.sort_values(self.data.columns[k1]).reset_index(drop = True)\n",
    "            self.lftn = node(data = self.data.loc[:k0, :])\n",
    "            self.rghtn = node(data = self.data.loc[(k0 + 1):, :])\n",
    "            self.mid = mid\n",
    "            self.dim = dim\n",
    "            \n",
    "    def create_tree(self, inst):   # recursive function to create tree\n",
    "        if inst.data.shape[0] > 5:\n",
    "            inst.split()\n",
    "            inst.create_tree(inst = inst.lftn)\n",
    "            inst.create_tree(inst = inst.rghtn)\n",
    "        else:\n",
    "            p_pos = (inst.data.Class == 1).sum()/inst.data.shape[0]\n",
    "            p_neg = 1 - p_pos\n",
    "            if p_pos == 0 or p_pos == 1:\n",
    "                inst.entropy = 0\n",
    "            else:\n",
    "                inst.entropy = -(p_pos*np.log(p_pos) + p_neg*np.log(p_neg))\n",
    "                node.global_entropy += inst.entropy + 0.4\n",
    "            if p_pos > p_neg:\n",
    "                inst.classif = 1\n",
    "            else:\n",
    "                inst.classif = 0\n",
    "    \n",
    "    def classify_point(self, point_data, inst): # classify test point\n",
    "        if point_data[0, inst.dim] <= inst.mid:\n",
    "            if not inst.lftn.lftn:\n",
    "                classification  = inst.lftn.classif\n",
    "                return classification\n",
    "            else:\n",
    "                classification = inst.classify_point(point_data = point_data, inst = inst.lftn)\n",
    "                return classification\n",
    "        else:\n",
    "            if not inst.rghtn.lftn:\n",
    "                classification = inst.rghtn.classif\n",
    "                return classification\n",
    "            else:\n",
    "                classification = inst.classify_point(point_data = point_data, inst = inst.rghtn)  \n",
    "                return classification"
   ]
  },
  {
   "cell_type": "code",
   "execution_count": 9,
   "metadata": {},
   "outputs": [],
   "source": [
    "root = node(data = X_train)\n",
    "root.create_tree(inst = root)"
   ]
  },
  {
   "cell_type": "code",
   "execution_count": 10,
   "metadata": {},
   "outputs": [
    {
     "data": {
      "text/plain": [
       "0.7737226277372263"
      ]
     },
     "execution_count": 10,
     "metadata": {},
     "output_type": "execute_result"
    }
   ],
   "source": [
    "acc = 0\n",
    "for i in range(X_test.shape[0]):\n",
    "    data = np.array(X_test.loc[i, :].values.tolist()).reshape((-1,5))\n",
    "    if root.classify_point(point_data = data, inst = root) == data[0, 4]:\n",
    "        acc += 1\n",
    "\n",
    "acc/X_test.shape[0]"
   ]
  },
  {
   "cell_type": "code",
   "execution_count": null,
   "metadata": {},
   "outputs": [],
   "source": []
  },
  {
   "cell_type": "code",
   "execution_count": null,
   "metadata": {},
   "outputs": [],
   "source": []
  },
  {
   "cell_type": "code",
   "execution_count": null,
   "metadata": {},
   "outputs": [],
   "source": []
  }
 ],
 "metadata": {
  "kernelspec": {
   "display_name": "Python 3",
   "language": "python",
   "name": "python3"
  },
  "language_info": {
   "codemirror_mode": {
    "name": "ipython",
    "version": 3
   },
   "file_extension": ".py",
   "mimetype": "text/x-python",
   "name": "python",
   "nbconvert_exporter": "python",
   "pygments_lexer": "ipython3",
   "version": "3.7.4"
  }
 },
 "nbformat": 4,
 "nbformat_minor": 2
}
