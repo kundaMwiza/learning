{
 "cells": [
  {
   "cell_type": "code",
   "execution_count": 498,
   "metadata": {},
   "outputs": [],
   "source": [
    "from sklearn.datasets import fetch_20newsgroups \n",
    "from sklearn.feature_extraction.text import CountVectorizer\n",
    "from scipy.sparse import csr_matrix\n",
    "from scipy import log\n",
    "import numpy as np \n",
    "import math\n",
    "from scipy.special import factorial\n",
    "\n",
    "func = CountVectorizer(max_features = 50000)\n",
    "\n",
    "all_data = fetch_20newsgroups(subset = 'all', remove = ('headers', 'footers', 'quotes'), shuffle = True, random_state = 42)\n",
    "all_data_target = all_data.target\n",
    "all_data = func.fit_transform(all_data.data)\n",
    "X_train = all_data[:12000, :]\n",
    "y_train = all_data_target[:12000]\n",
    "X_test = all_data[12000:, :]\n",
    "y_test = all_data_target[12000:]\n",
    "\n",
    "cats = len(np.unique(y_train))\n"
   ]
  },
  {
   "cell_type": "code",
   "execution_count": 500,
   "metadata": {},
   "outputs": [
    {
     "data": {
      "text/plain": [
       "0.694127957931639"
      ]
     },
     "execution_count": 500,
     "metadata": {},
     "output_type": "execute_result"
    }
   ],
   "source": [
    "param = csr_matrix((cats, X_train.shape[1]))\n",
    "\n",
    "for i in range(0, cats):\n",
    "    subset = (y_train == i)\n",
    "    portion = X_train[subset, :]\n",
    "    denom = np.sum(portion)\n",
    "    portion = np.sum(portion, axis = 0) + 0.01\n",
    "    portion = log(portion/(denom + X_train.shape[1]*0.01))\n",
    "    to_csr = csr_matrix(portion)\n",
    "    param[i, :] = to_csr\n",
    "\n",
    "tops = np.dot(param, X_test.transpose()).todense()\n",
    "tops = tops + np.log(1/cats)*np.ones(tops.shape) \n",
    "predictions = np.argmax(tops, axis = 0)\n",
    "predictions[predictions == y_test].shape[1]/y_test.shape[0]"
   ]
  }
 ],
 "metadata": {
  "kernelspec": {
   "display_name": "Python 3",
   "language": "python",
   "name": "python3"
  },
  "language_info": {
   "codemirror_mode": {
    "name": "ipython",
    "version": 3
   },
   "file_extension": ".py",
   "mimetype": "text/x-python",
   "name": "python",
   "nbconvert_exporter": "python",
   "pygments_lexer": "ipython3",
   "version": "3.6.7"
  }
 },
 "nbformat": 4,
 "nbformat_minor": 2
}
