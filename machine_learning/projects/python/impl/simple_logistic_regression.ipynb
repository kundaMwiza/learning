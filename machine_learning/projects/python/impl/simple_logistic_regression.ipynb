{
 "cells": [
  {
   "cell_type": "code",
   "execution_count": 391,
   "metadata": {},
   "outputs": [],
   "source": [
    "import pandas as pd\n",
    "import numpy as np\n",
    "import matplotlib\n",
    "%matplotlib inline\n",
    "\n",
    "Data = pd.read_csv('train.csv')\n",
    "Test = pd.read_csv('test.csv')\n",
    "gender = pd.read_csv('gender_submission.csv')\n",
    "def split_func(x):\n",
    "    if 'LINE' in x:\n",
    "        return 0\n",
    "    elif ' ' in x:\n",
    "        return int(x.split(' ')[-1])\n",
    "    else:\n",
    "        return int(x)\n",
    "    \n",
    "def embarked(x):\n",
    "    if x == 'S':\n",
    "        return 1\n",
    "    elif x == 'C':\n",
    "        return 2\n",
    "    else:\n",
    "        return 3\n",
    "    \n",
    "def normalize(x, feature, data):\n",
    "    return (x - data[feature].mean())/(data[feature].max() - data[feature].min())\n",
    "    \n",
    "Data.Ticket = Data.Ticket.map(lambda x: split_func(x))\n",
    "Test.Ticket = Test.Ticket.map(lambda x: split_func(x))\n",
    "Data.Ticket = Data.Ticket.map(lambda x: normalize(x, 'Ticket', data = Data))\n",
    "Test.Ticket = Test.Ticket.map(lambda x: normalize(x, 'Ticket', data = Test))\n",
    "Data.Fare = Data.Fare.map(lambda x: normalize(x, 'Fare', data = Data))\n",
    "Test.Fare = Test.Fare.map(lambda x: normalize(x, 'Fare', data = Test))\n",
    "Data.Sex = (Data.Sex == 'male')\n",
    "Test.Sex = (Test.Sex == 'male')\n",
    "Data.Sex = Data.Sex.map(lambda x: 1 if x == True else 0)\n",
    "Test.Sex = Test.Sex.map(lambda x: 1 if x == True else 0)\n",
    "Data.Embarked = Data.Embarked.map(lambda x: embarked(x))\n",
    "Test.Embarked = Test.Embarked.map(lambda x: embarked(x))\n",
    "Data.loc[np.isnan(Data.Age), 'Age'] = Data.Age.mean()\n",
    "Test.loc[np.isnan(Test.Age), 'Age'] = Test.Age.mean()\n",
    "Data.Age = Data.Age.map(lambda x: normalize(x, 'Age', data = Data))\n",
    "Test.Age = Test.Age.map(lambda x: normalize(x, 'Age', data = Test))\n",
    "\n",
    "X_train_orig = Data.drop(['Cabin', 'Name', 'Survived', 'PassengerId'], axis = 1)\n",
    "Test_orig = Test.drop(['Cabin', 'Name', 'PassengerId'], axis = 1)\n",
    "y_train = Data.Survived"
   ]
  },
  {
   "cell_type": "code",
   "execution_count": 362,
   "metadata": {},
   "outputs": [],
   "source": [
    "X_train = np.hstack((np.ones(shape = (X_train_orig.shape[0], 1)), X_train_orig.values))\n",
    "X_test = np.hstack((np.ones(shape = (Test_orig.shape[0], 1)), Test_orig.values))\n",
    "param = np.random.normal(size = (X_train.shape[1]))\n",
    "\n",
    "def logistic(w, x):\n",
    "    return (1+np.exp(-np.dot(w.T, x)))**-1\n",
    "\n",
    "def obj(w, X, y):\n",
    "    obj = 0\n",
    "    for dp in range(y.shape[0]):\n",
    "        x_dp = X[dp, :]\n",
    "        y_dp = logistic(w, x_dp)\n",
    "        t_dp = y[dp]\n",
    "        obj += -t_dp*np.log(y_dp) + (t_dp - 1)*np.log(1 - y_dp)\n",
    "    return obj\n",
    "\n",
    "def compute_y(w, X, R):\n",
    "    y_dp_arr = np.zeros((X.shape[0]))\n",
    "    for dp in range(X.shape[0]):\n",
    "        x_dp = X[dp, :]\n",
    "        y_dp = logistic(w, x_dp)\n",
    "        y_dp_arr[dp] = y_dp\n",
    "    return y_dp_arr\n",
    "\n",
    "def compute_grad(w, X, R, y, y_arr):\n",
    "    grad = np.dot(X.T, y_arr - y)\n",
    "    return grad\n",
    "\n",
    "def update_weights(w, X, y, R):\n",
    "    y_arr = compute_y(w, X, R)\n",
    "    grad = compute_grad(w, X, R, y, y_arr)\n",
    "    return grad\n",
    "\n",
    "def optimise(w, X, y, R):\n",
    "    for i in range(5000):\n",
    "        w = w - (0.001)*update_weights(w, X, y, R)   \n",
    "    return w\n",
    "    \n",
    "w = optimise(param, X_train, y_train, R)     "
   ]
  },
  {
   "cell_type": "code",
   "execution_count": 404,
   "metadata": {},
   "outputs": [],
   "source": [
    "output = np.zeros((X_test.shape[0]))\n",
    "\n",
    "for i in range(X_test.shape[0]):\n",
    "    k = logistic(w, X_test[i, :])\n",
    "    if k >= 0.5:\n",
    "        output[i] = int(1)\n",
    "    else:\n",
    "        output[i] = int(0)\n",
    "\n",
    "output\n",
    "output_pd = pd.DataFrame(output, index = Test.PassengerId, columns = ['Survived'])\n",
    "output_pd.astype(int).to_csv('my_output_3.csv')\n",
    "np.sum((output == gender.Survived))/gender.shape[0]\n",
    "output_pd = output_pd.astype(int)\n",
    "output_pd.to_csv('Titanic.csv')"
   ]
  },
  {
   "cell_type": "code",
   "execution_count": null,
   "metadata": {},
   "outputs": [],
   "source": []
  },
  {
   "cell_type": "code",
   "execution_count": 365,
   "metadata": {},
   "outputs": [
    {
     "data": {
      "text/plain": [
       "(891, 9)"
      ]
     },
     "execution_count": 365,
     "metadata": {},
     "output_type": "execute_result"
    }
   ],
   "source": []
  },
  {
   "cell_type": "code",
   "execution_count": null,
   "metadata": {},
   "outputs": [],
   "source": []
  }
 ],
 "metadata": {
  "kernelspec": {
   "display_name": "Python 3",
   "language": "python",
   "name": "python3"
  },
  "language_info": {
   "codemirror_mode": {
    "name": "ipython",
    "version": 3
   },
   "file_extension": ".py",
   "mimetype": "text/x-python",
   "name": "python",
   "nbconvert_exporter": "python",
   "pygments_lexer": "ipython3",
   "version": "3.6.7"
  }
 },
 "nbformat": 4,
 "nbformat_minor": 2
}
